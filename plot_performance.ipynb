{
 "cells": [
  {
   "cell_type": "code",
   "execution_count": 1,
   "metadata": {},
   "outputs": [
    {
     "name": "stderr",
     "output_type": "stream",
     "text": [
      "/home/raymond/miniconda3/envs/mi/lib/python3.12/site-packages/tqdm/auto.py:21: TqdmWarning: IProgress not found. Please update jupyter and ipywidgets. See https://ipywidgets.readthedocs.io/en/stable/user_install.html\n",
      "  from .autonotebook import tqdm as notebook_tqdm\n"
     ]
    }
   ],
   "source": [
    "import json\n",
    "from collections.abc import Sequence\n",
    "from functools import partial\n",
    "from pathlib import Path\n",
    "\n",
    "import matplotlib.pyplot as plt\n",
    "import numpy as np\n",
    "import pandas as pd\n",
    "import seaborn as sns\n",
    "import wandb\n",
    "\n",
    "from e2e_sae.log import logger\n",
    "from e2e_sae.plotting import plot_facet, plot_per_layer_metric\n",
    "from e2e_sae.scripts.analysis.plot_settings import (\n",
    "    SIMILAR_CE_RUNS,\n",
    "    SIMILAR_RUN_INFO,\n",
    "    STYLE_MAP,\n",
    ")\n",
    "from e2e_sae.scripts.analysis.utils import create_run_df, get_df_gpt2\n",
    "from e2e_sae.scripts.analysis.plot_performance import format_two_axes"
   ]
  },
  {
   "cell_type": "markdown",
   "metadata": {},
   "source": [
    "## Plot Performance of BAE with Different Beta Values"
   ]
  },
  {
   "cell_type": "code",
   "execution_count": 30,
   "metadata": {},
   "outputs": [
    {
     "name": "stderr",
     "output_type": "stream",
     "text": [
      "Processing runs: 100%|██████████| 72/72 [00:00<00:00, 99.05it/s]\n",
      "2025-05-02 15:12:53 - INFO - Saved plot to plots/bayesian_local_beta_sweep_layer_4.png\n",
      "2025-05-02 15:12:53 - INFO - Saved SVG plot to plots/bayesian_local_beta_sweep_layer_4.svg\n"
     ]
    }
   ],
   "source": [
    "api = wandb.Api(api_key='b8fa6d3104a0f99ee8a99f7c7659b893559f1097')\n",
    "project = \"raymondl/tinystories-1m-local-bayesian-beta-sweep\"\n",
    "runs = api.runs(project)\n",
    "df = create_run_df(runs, per_layer_metrics=False, use_run_name=True, grad_norm=False)\n",
    "# df = df[df[\"name\"].str.contains(\"beta_0.5\") | df[\"name\"].str.contains(\"beta_0.3\")]\n",
    "\n",
    "def assign_group(run_name: str) -> str:\n",
    "    beta_value = f\"{run_name.split(\"beta_\")[-1].split(\"_\")[0]}\"\n",
    "    return beta_value\n",
    "\n",
    "df[\"grouping_type\"] = df[\"name\"].apply(assign_group)\n",
    "plot_facet(\n",
    "    df=df,\n",
    "    xs=[\"CELossIncrease\", \"out_to_in\"],\n",
    "    y=\"L0\",\n",
    "    facet_by=\"layer\",\n",
    "    facet_vals=[4],\n",
    "    line_by=\"grouping_type\",\n",
    "    xlabels=[\"CE Loss Increase\", \"Reconstruction MSE\"],\n",
    "    ylabel=\"L0\",\n",
    "    legend_title=\"Beta Value\",\n",
    "    axis_formatter=partial(format_two_axes, better_labels=True),\n",
    "    out_file=\"plots/bayesian_local_beta_sweep_layer_4.png\",\n",
    "    xlims=[{4: (None, None)}, {4: (None, None)}],\n",
    "    ylim={4: (None, None)},\n",
    "    styles=STYLE_MAP,\n",
    "    plot_type='line',\n",
    "    annotate_col=\"sparsity_coeff\",\n",
    ")"
   ]
  },
  {
   "cell_type": "code",
   "execution_count": 31,
   "metadata": {},
   "outputs": [
    {
     "name": "stderr",
     "output_type": "stream",
     "text": [
      "Processing runs: 100%|██████████| 130/130 [00:02<00:00, 48.79it/s]\n",
      "2025-05-02 15:13:01 - INFO - Saved plot to plots/bayesian_e2e_beta_sweep_layer_4.png\n",
      "2025-05-02 15:13:01 - INFO - Saved SVG plot to plots/bayesian_e2e_beta_sweep_layer_4.svg\n"
     ]
    }
   ],
   "source": [
    "\n",
    "api = wandb.Api(api_key='b8fa6d3104a0f99ee8a99f7c7659b893559f1097')\n",
    "project = \"raymondl/tinystories-1m-e2e-bayesian-beta-sweep-no-relu\"\n",
    "runs = api.runs(project)\n",
    "df = create_run_df(runs, per_layer_metrics=False, use_run_name=True, grad_norm=False)\n",
    "# df = df[df[\"name\"].str.contains(\"beta_0.5\") | df[\"name\"].str.contains(\"beta_0.2\")]\n",
    "\n",
    "def assign_group(run_name: str) -> str:\n",
    "    beta_value = f\"{run_name.split(\"beta_\")[-1].split(\"_\")[0]}\"\n",
    "    return beta_value\n",
    "\n",
    "df[\"grouping_type\"] = df[\"name\"].apply(assign_group)\n",
    "plot_facet(\n",
    "    df=df,\n",
    "    xs=[\"CELossIncrease\", \"out_to_in\"],\n",
    "    y=\"L0\",\n",
    "    facet_by=\"layer\",\n",
    "    facet_vals=[4],\n",
    "    line_by=\"grouping_type\",\n",
    "    xlabels=[\"CE Loss Increase\", \"Reconstruction MSE\"],\n",
    "    ylabel=\"L0\",\n",
    "    legend_title=\"Beta Value\",\n",
    "    axis_formatter=partial(format_two_axes, better_labels=True),\n",
    "    out_file=\"plots/bayesian_e2e_beta_sweep_layer_4.png\",\n",
    "    xlims=[{4: (None, None)}, {4: (None, None)}],\n",
    "    ylim={4: (None, None)},\n",
    "    styles=STYLE_MAP,\n",
    "    plot_type='line',\n",
    "    annotate_col=\"sparsity_coeff\"\n",
    ")"
   ]
  },
  {
   "cell_type": "markdown",
   "metadata": {},
   "source": [
    "## ReLU vs No ReLU\n"
   ]
  },
  {
   "cell_type": "code",
   "execution_count": 23,
   "metadata": {},
   "outputs": [
    {
     "name": "stderr",
     "output_type": "stream",
     "text": [
      "Processing runs: 100%|██████████| 40/40 [00:00<00:00, 18471.01it/s]\n",
      "Processing runs: 100%|██████████| 130/130 [00:02<00:00, 50.00it/s]\n",
      "2025-05-02 14:49:15 - INFO - Saved plot to plots/bayesian_e2e_relu_vs_no_relu_layer_4.png\n",
      "2025-05-02 14:49:15 - INFO - Saved SVG plot to plots/bayesian_e2e_relu_vs_no_relu_layer_4.svg\n"
     ]
    }
   ],
   "source": [
    "api = wandb.Api(api_key='b8fa6d3104a0f99ee8a99f7c7659b893559f1097')\n",
    "sweep_project = \"raymondl/tinystories-1m-e2e-bayesian-beta-sweep\"\n",
    "runs = api.runs(sweep_project)\n",
    "sweep_project_no_relu = \"raymondl/tinystories-1m-e2e-bayesian-beta-sweep-no-relu\"\n",
    "runs_no_relu = api.runs(sweep_project_no_relu)\n",
    "beta_values = set()\n",
    "df = create_run_df(runs, per_layer_metrics=False, use_run_name=True, grad_norm=False)\n",
    "\n",
    "df[\"grouping_type\"] = \"ReLU\"\n",
    "df_no_relu = create_run_df(runs_no_relu, per_layer_metrics=False, use_run_name=True, grad_norm=False)\n",
    "# Filter df_no_relu to only include runs that are in df\n",
    "df_no_relu = df_no_relu[df_no_relu[\"name\"].isin(df[\"name\"])]\n",
    "df_no_relu[\"grouping_type\"] = \"No ReLU\"\n",
    "df = pd.concat([df, df_no_relu], axis=0)\n",
    "plot_facet(\n",
    "    df=df,\n",
    "    xs=[\"CELossIncrease\"],\n",
    "    y=\"L0\",\n",
    "    facet_by=\"layer\",\n",
    "    facet_vals=[4],\n",
    "    line_by=\"grouping_type\",\n",
    "    xlabels=[\"CE Loss Increase\"],\n",
    "    ylabel=\"L0\",\n",
    "    legend_title=\"Beta Value\",\n",
    "    axis_formatter=None,\n",
    "    out_file=\"plots/bayesian_e2e_relu_vs_no_relu_layer_4.png\",\n",
    "    xlims=[{4: (None, None)}, {4: (None, None)}],\n",
    "    ylim={4: (None, None)},\n",
    "    styles=STYLE_MAP,\n",
    "    plot_type='line',\n",
    "    annotate_col=\"sparsity_coeff\"\n",
    ")"
   ]
  },
  {
   "cell_type": "markdown",
   "metadata": {},
   "source": [
    "## Learning Rates"
   ]
  },
  {
   "cell_type": "code",
   "execution_count": 27,
   "metadata": {},
   "outputs": [
    {
     "name": "stderr",
     "output_type": "stream",
     "text": [
      "Processing runs: 100%|██████████| 130/130 [00:02<00:00, 50.49it/s]\n",
      "2025-05-02 15:10:32 - INFO - Saved plot to plots/bayesian_e2e_learning_rates_layer_4.png\n",
      "2025-05-02 15:10:32 - INFO - Saved SVG plot to plots/bayesian_e2e_learning_rates_layer_4.svg\n"
     ]
    }
   ],
   "source": [
    "api = wandb.Api(api_key='b8fa6d3104a0f99ee8a99f7c7659b893559f1097')\n",
    "project = \"raymondl/tinystories-1m-e2e-bayesian-beta-sweep-no-relu\"\n",
    "runs = api.runs(project)\n",
    "df = create_run_df(runs, per_layer_metrics=False, use_run_name=True, grad_norm=False)\n",
    "df = df[df['name'].str.contains('beta_0.5_bayesian_seed-0')]\n",
    "df[\"grouping_type\"] = df[\"name\"].apply(lambda x: f\"LR: {x.split('lr-')[-1].split('_')[0]}\")\n",
    "plot_facet(\n",
    "    df=df,\n",
    "    xs=[\"CELossIncrease\"],\n",
    "    y=\"L0\",\n",
    "    facet_by=\"layer\",\n",
    "    facet_vals=[4],\n",
    "    line_by=\"grouping_type\",\n",
    "    xlabels=[\"CE Loss Increase\"],\n",
    "    ylabel=\"L0\",\n",
    "    legend_title=\"Beta Value\",\n",
    "    axis_formatter=None,\n",
    "    out_file=\"plots/bayesian_e2e_learning_rates_layer_4.png\",\n",
    "    xlims=[{4: (None, None)}, {4: (None, None)}],\n",
    "    ylim={4: (None, None)},\n",
    "    styles=STYLE_MAP,\n",
    "    plot_type='line',\n",
    "    annotate_col=\"sparsity_coeff\"\n",
    ")"
   ]
  },
  {
   "cell_type": "markdown",
   "metadata": {},
   "source": [
    "## TinyStories-1M Comparisons with Baselines"
   ]
  },
  {
   "cell_type": "code",
   "execution_count": 19,
   "metadata": {},
   "outputs": [
    {
     "name": "stderr",
     "output_type": "stream",
     "text": [
      "Processing runs:   0%|          | 0/105 [00:00<?, ?it/s]"
     ]
    },
    {
     "name": "stdout",
     "output_type": "stream",
     "text": [
      "Run e2e_bayesian_bayesian_seed-0_lpcoeff-0.05_logits-kl-1.0_lr-0.001_ratio-50.0_blocks.4.hook_resid_pre is not finished, skipping\n",
      "Run local_bayesian_bayesian_seed-0_lpcoeff-9e-05_in-to-out-1.0_lr-0.001_ratio-50.0_blocks.4.hook_resid_pre is not finished, skipping\n"
     ]
    },
    {
     "name": "stderr",
     "output_type": "stream",
     "text": [
      "Processing runs: 100%|██████████| 105/105 [00:01<00:00, 53.08it/s]\n",
      "Processing runs: 100%|██████████| 51/51 [00:00<00:00, 643.18it/s]\n",
      "/tmp/ipykernel_3183258/1399092007.py:31: FutureWarning: The behavior of DataFrame concatenation with empty or all-NA entries is deprecated. In a future version, this will no longer exclude empty or all-NA columns when determining the result dtypes. To retain the old behavior, exclude the relevant entries before the concat operation.\n",
      "  df = pd.concat([df, df2], axis=0)\n",
      "2025-05-03 18:24:07 - INFO - Saved plot to plots/l0_vs_ce_loss_layer_4.png\n",
      "2025-05-03 18:24:07 - INFO - Saved SVG plot to plots/l0_vs_ce_loss_layer_4.svg\n"
     ]
    }
   ],
   "source": [
    "api = wandb.Api(api_key='b8fa6d3104a0f99ee8a99f7c7659b893559f1097')\n",
    "project = \"raymondl/tinystories-1m_play\"\n",
    "runs = api.runs(project)\n",
    "df = create_run_df(runs, per_layer_metrics=False, use_run_name=True, grad_norm=False)\n",
    "df = df[df['name'].str.contains('blocks.4.hook_resid_pre')]\n",
    "df = df[df['name'].str.contains('local_seed') | df['name'].str.contains('e2e_seed') | df['name'].str.contains('ds_seed')]\n",
    "def assign_group(run_name: str):\n",
    "    # if 'e2e_bayesian' in run_name or 'beta_0.5' in run_name:\n",
    "    #     return 'e2e (bayesian)'\n",
    "    # elif 'local_bayesian' in run_name:\n",
    "    #     return 'local (bayesian)'\n",
    "    if 'ds' in run_name:\n",
    "        return 'ds'\n",
    "    elif 'e2e' in run_name:\n",
    "        return 'e2e'\n",
    "    else:\n",
    "        return 'local'\n",
    "df[\"grouping_type\"] = df[\"name\"].apply(assign_group)\n",
    "\n",
    "project = \"tinystories-1m-e2e-bayesian-beta-annealing\"\n",
    "runs = api.runs(project)\n",
    "df2 = create_run_df(runs, per_layer_metrics=False, use_run_name=True, grad_norm=False)\n",
    "df2 = df2[df2['name'].str.contains('linear_annealing')]\n",
    "def assign_group2(run_name: str):\n",
    "    beta_value = f\"{run_name.split('beta_')[-1].split('_')[0]}\"\n",
    "    return f\"e2e (bayesian) {beta_value}\"\n",
    "df2[\"grouping_type\"] = df2[\"name\"].apply(assign_group2)\n",
    "\n",
    "\n",
    "\n",
    "df = pd.concat([df, df2], axis=0)\n",
    "\n",
    "# df = df[df['CELossIncrease'] < 1]\n",
    "# df = df[df['L0'] < 100]\n",
    "\n",
    "\n",
    "plot_facet(\n",
    "    df=df,\n",
    "    xs=[\"L0\", \"alive_dict_elements\"],\n",
    "    y=\"CELossIncrease\",\n",
    "    facet_by=\"layer\",\n",
    "    facet_vals=[4],\n",
    "    line_by=\"grouping_type\",\n",
    "    xlabels=[\"L0\", \"Alive Dict Elements\"],\n",
    "    ylabel=\"CE Loss Increase\",\n",
    "    legend_title=\"SAE Type\",\n",
    "    axis_formatter=partial(format_two_axes, better_labels=True),\n",
    "    out_file=\"plots/l0_vs_ce_loss_layer_4.png\",\n",
    "    xlims=[{4: (None, None)}, {4: (None, None)}],\n",
    "    ylim={4: (.5, 0)},\n",
    "    styles=STYLE_MAP,\n",
    "    plot_type='line',\n",
    "    # annotate_col=\"sparsity_coeff\"\n",
    ")"
   ]
  },
  {
   "cell_type": "code",
   "execution_count": null,
   "metadata": {},
   "outputs": [
    {
     "name": "stderr",
     "output_type": "stream",
     "text": [
      "Processing runs:   0%|          | 0/61 [00:00<?, ?it/s]"
     ]
    },
    {
     "name": "stdout",
     "output_type": "stream",
     "text": [
      "Run local_bayesian_bayesian_seed-0_lpcoeff-9e-05_in-to-out-1.0_lr-0.001_ratio-50.0_blocks.4.hook_resid_pre is not finished, skipping\n"
     ]
    },
    {
     "name": "stderr",
     "output_type": "stream",
     "text": [
      "Processing runs: 100%|██████████| 61/61 [00:00<00:00, 182.75it/s]\n",
      "2025-05-03 18:18:06 - INFO - Saved plot to plots/l0_vs_ce_loss_local_layer_4.png\n",
      "2025-05-03 18:18:06 - INFO - Saved SVG plot to plots/l0_vs_ce_loss_local_layer_4.svg\n"
     ]
    }
   ],
   "source": [
    "api = wandb.Api(api_key='b8fa6d3104a0f99ee8a99f7c7659b893559f1097')\n",
    "project = \"raymondl/tinystories-1m_play\"\n",
    "runs = api.runs(project, filters={\"tags\": \"local\"})\n",
    "df = create_run_df(runs, per_layer_metrics=False, use_run_name=True, grad_norm=False)\n",
    "\n",
    "def assign_group(name):\n",
    "    if \"bayesian\" in name:\n",
    "        return \"local (bayesian)\"\n",
    "    else:\n",
    "        return \"local\"\n",
    "\n",
    "df[\"grouping_type\"] = df[\"name\"].apply(assign_group)\n",
    "\n",
    "plot_facet(\n",
    "    df=df,\n",
    "    xs=[\"CELossIncrease\", \"out_to_in\"],\n",
    "    y=\"L0\",\n",
    "    facet_by=\"layer\",\n",
    "    facet_vals=[4],\n",
    "    line_by=\"grouping_type\",\n",
    "    xlabels=[\"CE Loss Increase\", \"Reconstruction MSE\"],\n",
    "    ylabel=\"L0\",\n",
    "    legend_title=\"SAE Type\",\n",
    "    axis_formatter=partial(format_two_axes, better_labels=True),\n",
    "    out_file=\"plots/l0_vs_ce_loss_local_layer_4.png\",\n",
    "    xlims=[{4: (-0.5, 10)}, {4: (None, None)}],\n",
    "    ylim={4: (None, None)},\n",
    "    styles=STYLE_MAP,\n",
    "    \n",
    "    annotate_col=\"sparsity_coeff\"\n",
    ")\n"
   ]
  }
 ],
 "metadata": {
  "kernelspec": {
   "display_name": "mi",
   "language": "python",
   "name": "python3"
  },
  "language_info": {
   "codemirror_mode": {
    "name": "ipython",
    "version": 3
   },
   "file_extension": ".py",
   "mimetype": "text/x-python",
   "name": "python",
   "nbconvert_exporter": "python",
   "pygments_lexer": "ipython3",
   "version": "3.12.9"
  }
 },
 "nbformat": 4,
 "nbformat_minor": 2
}
